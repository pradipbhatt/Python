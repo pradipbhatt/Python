{
  "nbformat": 4,
  "nbformat_minor": 0,
  "metadata": {
    "colab": {
      "provenance": [],
      "authorship_tag": "ABX9TyOyBNNrgJd4q7wLvsfyavaV",
      "include_colab_link": true
    },
    "kernelspec": {
      "name": "python3",
      "display_name": "Python 3"
    },
    "language_info": {
      "name": "python"
    }
  },
  "cells": [
    {
      "cell_type": "markdown",
      "metadata": {
        "id": "view-in-github",
        "colab_type": "text"
      },
      "source": [
        "<a href=\"https://colab.research.google.com/github/pradipbhatt/Python/blob/main/String.ipynb\" target=\"_parent\"><img src=\"https://colab.research.google.com/assets/colab-badge.svg\" alt=\"Open In Colab\"/></a>"
      ]
    },
    {
      "cell_type": "code",
      "execution_count": 1,
      "metadata": {
        "colab": {
          "base_uri": "https://localhost:8080/"
        },
        "id": "Htviuv0LpkfZ",
        "outputId": "07bd6cd0-e2b1-468d-e195-d8b655129cad"
      },
      "outputs": [
        {
          "output_type": "stream",
          "name": "stdout",
          "text": [
            "Hello World\n"
          ]
        }
      ],
      "source": [
        "print(\"Hello World\")"
      ]
    },
    {
      "cell_type": "code",
      "source": [
        "print('''Hello my name is\n",
        "pradip bhatt\n",
        "i am from far western University''')"
      ],
      "metadata": {
        "colab": {
          "base_uri": "https://localhost:8080/"
        },
        "id": "c1-fCScq8cfY",
        "outputId": "cefcb9ee-cc86-4f8a-d798-9be1fe584e0f"
      },
      "execution_count": 2,
      "outputs": [
        {
          "output_type": "stream",
          "name": "stdout",
          "text": [
            "Hello my name is\n",
            "pradip bhatt\n",
            "i am from far western University\n"
          ]
        }
      ]
    },
    {
      "cell_type": "code",
      "source": [
        "name = \"pradip bhatt\"\n",
        "age = \"20\"\n",
        "blood_group = \"O positive\"\n",
        "print(name)\n",
        "print(age)\n",
        "print(blood_group)\n",
        "# formatted string\n",
        "print(f\"my name is {name} and my age is {age} and my blood group is {blood_group}\")\n",
        "# concatination through\n",
        "print(\"My name is\"+name+\"and age is \"+age)\n",
        "# print(name,age,blood_group)"
      ],
      "metadata": {
        "colab": {
          "base_uri": "https://localhost:8080/"
        },
        "id": "72RC3Vbc9a5H",
        "outputId": "9c734f37-1358-4d7b-9a6b-0ac5bee0a368"
      },
      "execution_count": 7,
      "outputs": [
        {
          "output_type": "stream",
          "name": "stdout",
          "text": [
            "pradip bhatt\n",
            "20\n",
            "O positive\n",
            "my name is pradip bhatt and my age is 20 and my blood group is O positive\n",
            "My name ispradip bhattand age is 20\n"
          ]
        }
      ]
    },
    {
      "cell_type": "code",
      "source": [
        "having_a_gf = False\n",
        "if having_a_gf:\n",
        "  print(\"Congratulation you're mingle\")\n",
        "else:\n",
        " print(\"You're single\")"
      ],
      "metadata": {
        "colab": {
          "base_uri": "https://localhost:8080/"
        },
        "id": "Y5sLGgNY-bFZ",
        "outputId": "4b026b47-7989-4128-cf90-47421a80ab1b"
      },
      "execution_count": 12,
      "outputs": [
        {
          "output_type": "stream",
          "name": "stdout",
          "text": [
            "You're single\n"
          ]
        }
      ]
    },
    {
      "cell_type": "code",
      "source": [
        "# practising the string methods\n",
        "name = \"  Pradip bhatt\"\n",
        "print(name.upper())\n",
        "print(name.lower())\n",
        "print(name.title())\n",
        "print(name.capitalize())"
      ],
      "metadata": {
        "colab": {
          "base_uri": "https://localhost:8080/"
        },
        "id": "QtaxUZZWRW2B",
        "outputId": "4c671a35-acf7-4722-97ba-32806c4b3e4a"
      },
      "execution_count": 14,
      "outputs": [
        {
          "output_type": "stream",
          "name": "stdout",
          "text": [
            "  PRADIP BHATT\n",
            "  pradip bhatt\n",
            "  Pradip Bhatt\n",
            "  pradip bhatt\n"
          ]
        }
      ]
    },
    {
      "cell_type": "code",
      "source": [
        "# Access characters using indexing:\n",
        "text = \"Python\"\n",
        "print(text[0])  # Output: P\n",
        "print(text[3])  # Output: n\n",
        "\n",
        "# Slicing strings:\n",
        "print(text[0:3])  # Output: Pyt\n",
        "print(text[:3])   # Output: Pyt\n",
        "print(text[3:])   # Output: hon\n",
        "print(text[:])    # Output: Python\n",
        "\n",
        "# Negative indexing:\n",
        "print(text[-1])   # Output: n\n",
        "print(text[-3:])  # Output: hon"
      ],
      "metadata": {
        "colab": {
          "base_uri": "https://localhost:8080/"
        },
        "id": "-PLIpdmSTSvr",
        "outputId": "c65a5964-bc32-4db7-8aaa-da1f23f53451"
      },
      "execution_count": 18,
      "outputs": [
        {
          "output_type": "stream",
          "name": "stdout",
          "text": [
            "P\n",
            "h\n",
            "Pyt\n",
            "Pyt\n",
            "hon\n",
            "Python\n",
            "n\n",
            "hon\n"
          ]
        }
      ]
    },
    {
      "cell_type": "code",
      "source": [
        "text = \"Python\"\n",
        "print(text.upper())  # PYTHON\n",
        "print(text.lower())  # python\n",
        "print(text.title())  # Python\n",
        "print(text.capitalize())  # Python\n",
        "\n",
        "# Check content:\n",
        "\n",
        "print(text.isalpha())  # True if all characters are alphabets\n",
        "print(text.isdigit())  # True if all characters are digits\n",
        "print(text.isalnum())  # True if all characters are alphanumeric\n",
        "# .strip\n",
        "text = \"    Python      \"\n",
        "print(text.strip())  # Remove leading/trailing spaces\n",
        "print(text.replace(\"Py\", \"Pradip\"))  # Replace 'Py' with 'My'\n",
        "print(text.split(\" \"))  # Split the string into a list"
      ],
      "metadata": {
        "colab": {
          "base_uri": "https://localhost:8080/"
        },
        "id": "R-W2JFmqULF7",
        "outputId": "37a7064d-3c6e-46e2-bd19-36f8f233c5f0"
      },
      "execution_count": 25,
      "outputs": [
        {
          "output_type": "stream",
          "name": "stdout",
          "text": [
            "PYTHON\n",
            "python\n",
            "Python\n",
            "Python\n",
            "True\n",
            "False\n",
            "True\n",
            "Python\n",
            "  Pradipthon      \n",
            "['', '', 'Python', '', '', '', '', '', '']\n"
          ]
        }
      ]
    },
    {
      "cell_type": "code",
      "source": [
        "path = r\"C:\\new_folder\\file.txt\"\n",
        "print(path)  # C:\\new_folder\\file.txt\n"
      ],
      "metadata": {
        "colab": {
          "base_uri": "https://localhost:8080/"
        },
        "id": "jmy-URSuXNFM",
        "outputId": "5a57b612-15db-45e6-c31e-0b217ceb7dbe"
      },
      "execution_count": 26,
      "outputs": [
        {
          "output_type": "stream",
          "name": "stdout",
          "text": [
            "C:\\new_folder\\file.txt\n"
          ]
        }
      ]
    },
    {
      "cell_type": "code",
      "source": [
        "def reverse_string(s):\n",
        "    return s[::-1]\n",
        "\n",
        "# Example\n",
        "input_str = \"hello ramesh\"\n",
        "print(\"Reversed:\", reverse_string(input_str))  # Output: \"olleh\""
      ],
      "metadata": {
        "colab": {
          "base_uri": "https://localhost:8080/"
        },
        "id": "L70ui3wCXXYz",
        "outputId": "905f1328-d06d-44cb-dac0-64e512b0ec2f"
      },
      "execution_count": 29,
      "outputs": [
        {
          "output_type": "stream",
          "name": "stdout",
          "text": [
            "Reversed: hsemar olleh\n"
          ]
        }
      ]
    },
    {
      "cell_type": "code",
      "source": [
        "def is_palindrome(s):\n",
        "    s = s.lower().replace(\" \", \"\")  # Optional: ignore case and spaces\n",
        "    return s == s[::-1]\n",
        "\n",
        "# Example\n",
        "input_str = \"madam\"\n",
        "print(\"Is palindrome:\", is_palindrome(input_str))  # Output: True\n",
        "\n",
        "input_str = \"hello\"\n",
        "print(\"Is palindrome:\", is_palindrome(input_str))  # Output: False\n"
      ],
      "metadata": {
        "colab": {
          "base_uri": "https://localhost:8080/"
        },
        "id": "wugeZGa-YpBq",
        "outputId": "a05646ec-4e6c-4d03-e250-552387586b37"
      },
      "execution_count": 30,
      "outputs": [
        {
          "output_type": "stream",
          "name": "stdout",
          "text": [
            "Is palindrome: True\n",
            "Is palindrome: False\n"
          ]
        }
      ]
    },
    {
      "cell_type": "code",
      "source": [
        "# Count Vowels in a String\n",
        "\n",
        "def count_vowels(s):\n",
        "    vowels = \"aeiou\"\n",
        "    count = 0\n",
        "    for char in s.lower():\n",
        "        if char in vowels:\n",
        "            count += 1\n",
        "    return count\n",
        "\n",
        "# Example\n",
        "input_str = \"Hello World\" #first execute\n",
        "print(\"Vowel count:\", count_vowels(input_str))  # Output: 3\n"
      ],
      "metadata": {
        "colab": {
          "base_uri": "https://localhost:8080/"
        },
        "id": "S0C4-hsnZL5J",
        "outputId": "7217a300-ad35-47f6-8e6d-42760763386b"
      },
      "execution_count": 31,
      "outputs": [
        {
          "output_type": "stream",
          "name": "stdout",
          "text": [
            "Vowel count: 3\n"
          ]
        }
      ]
    },
    {
      "cell_type": "code",
      "source": [
        "# Find the Frequency of Characters\n",
        "\n",
        "def char_frequency(s):\n",
        "    frequency = {}\n",
        "    for char in s:\n",
        "        if char in frequency:\n",
        "            frequency[char] += 1\n",
        "        else:\n",
        "            frequency[char] = 1\n",
        "    return frequency\n",
        "\n",
        "# Example\n",
        "input_str = \"hello\"\n",
        "print(\"Character frequency:\", char_frequency(input_str))\n",
        "# Output: {'h': 1, 'e': 1, 'l': 2, 'o': 1}\n"
      ],
      "metadata": {
        "id": "TcaQa_2QaiRw"
      },
      "execution_count": null,
      "outputs": []
    }
  ]
}