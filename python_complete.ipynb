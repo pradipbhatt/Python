{
  "nbformat": 4,
  "nbformat_minor": 0,
  "metadata": {
    "colab": {
      "provenance": [],
      "mount_file_id": "1gEtZs0A3ugzdf-t4vTVpngC3q73n7GK-",
      "authorship_tag": "ABX9TyML6DJvRpRXFk9M+FQGHepR",
      "include_colab_link": true
    },
    "kernelspec": {
      "name": "python3",
      "display_name": "Python 3"
    },
    "language_info": {
      "name": "python"
    }
  },
  "cells": [
    {
      "cell_type": "markdown",
      "metadata": {
        "id": "view-in-github",
        "colab_type": "text"
      },
      "source": [
        "<a href=\"https://colab.research.google.com/github/pradipbhatt/Python/blob/main/python_complete.ipynb\" target=\"_parent\"><img src=\"https://colab.research.google.com/assets/colab-badge.svg\" alt=\"Open In Colab\"/></a>"
      ]
    },
    {
      "cell_type": "code",
      "execution_count": 2,
      "metadata": {
        "id": "B0kkjpfhk-o0"
      },
      "outputs": [],
      "source": [
        "x = [\"pradip\",\"Harry\",\"Shyam\"]"
      ]
    },
    {
      "cell_type": "code",
      "source": [
        "print(\"pradip\"  in x)\n",
        "# this helps to print the true if it find the pradip string in the variable"
      ],
      "metadata": {
        "colab": {
          "base_uri": "https://localhost:8080/"
        },
        "id": "T4xjqqqAlPa0",
        "outputId": "ddfa60a4-2b19-4c90-f30c-540a349cce38"
      },
      "execution_count": 3,
      "outputs": [
        {
          "output_type": "stream",
          "name": "stdout",
          "text": [
            "True\n"
          ]
        }
      ]
    },
    {
      "cell_type": "code",
      "source": [
        "print(\"yogesh\"  in x)\n",
        "# this helps to print the true if it find the pradip string in the variable"
      ],
      "metadata": {
        "colab": {
          "base_uri": "https://localhost:8080/"
        },
        "id": "2d_lrARjltcR",
        "outputId": "33155d50-9510-425e-e3b1-a85ba3aa1088"
      },
      "execution_count": 4,
      "outputs": [
        {
          "output_type": "stream",
          "name": "stdout",
          "text": [
            "False\n"
          ]
        }
      ]
    },
    {
      "cell_type": "code",
      "source": [
        "print(\"pradip\"  in x)\n",
        "print(\"yogesh\" in x)\n",
        "# this helps to print the true if it find the pradip string in the variable"
      ],
      "metadata": {
        "colab": {
          "base_uri": "https://localhost:8080/"
        },
        "id": "LEQFWneXl0Y3",
        "outputId": "ca82c914-3ce4-4acd-fcd6-b6ae9636ad96"
      },
      "execution_count": 5,
      "outputs": [
        {
          "output_type": "stream",
          "name": "stdout",
          "text": [
            "True\n",
            "False\n"
          ]
        }
      ]
    },
    {
      "cell_type": "code",
      "source": [
        "# types of the data types in python\n",
        "# what is data types and types ?\n",
        "# used the type of my variable like mero variable ko type kun ho vaenra bataune\n",
        "# like it's basically as a container where i store the values\n",
        "# why data types required??\n",
        "# becasuse helps to check the type of variables\n",
        "# -->might be mixed of two data types\n",
        "# int , float , boolean , string\n",
        "# suppose we have numbers two we may add , substract , multiply on those variables\n",
        "# and magical thing is here in python we wont give the data type python automatically assign the datat ypes\n",
        "a = \" hello testing\"\n",
        "print(type(a))"
      ],
      "metadata": {
        "colab": {
          "base_uri": "https://localhost:8080/"
        },
        "id": "Z_XiPbO4l51j",
        "outputId": "aa81176d-2e8d-458f-d881-7975be851772"
      },
      "execution_count": 6,
      "outputs": [
        {
          "output_type": "stream",
          "name": "stdout",
          "text": [
            "<class 'str'>\n"
          ]
        }
      ]
    },
    {
      "cell_type": "code",
      "source": [
        "data = 12\n",
        "print(data)\n",
        "print(type(data))"
      ],
      "metadata": {
        "colab": {
          "base_uri": "https://localhost:8080/"
        },
        "id": "OSX6LGMfm6Hm",
        "outputId": "1b92beb3-18ff-4ce0-e360-3626539b3812"
      },
      "execution_count": 7,
      "outputs": [
        {
          "output_type": "stream",
          "name": "stdout",
          "text": [
            "12\n",
            "<class 'int'>\n"
          ]
        }
      ]
    },
    {
      "cell_type": "code",
      "source": [
        "data3 = 4+ 4j\n",
        "print(type(data3))"
      ],
      "metadata": {
        "colab": {
          "base_uri": "https://localhost:8080/"
        },
        "id": "C0P6u-Z6niPX",
        "outputId": "3a791b9f-38f6-4a42-8b1a-5d72d73e0884"
      },
      "execution_count": 8,
      "outputs": [
        {
          "output_type": "stream",
          "name": "stdout",
          "text": [
            "<class 'complex'>\n"
          ]
        }
      ]
    },
    {
      "cell_type": "code",
      "source": [
        "age = True\n",
        "print(type(age))"
      ],
      "metadata": {
        "colab": {
          "base_uri": "https://localhost:8080/"
        },
        "id": "wLLjB0bToH9x",
        "outputId": "c284f28a-4c37-49c2-fa1d-75fc770913f3"
      },
      "execution_count": 9,
      "outputs": [
        {
          "output_type": "stream",
          "name": "stdout",
          "text": [
            "<class 'bool'>\n"
          ]
        }
      ]
    },
    {
      "cell_type": "code",
      "source": [
        "x = [\"aaple\",\"mango\",\"banana\"]\n",
        "print(type(x))\n",
        "# list type data"
      ],
      "metadata": {
        "colab": {
          "base_uri": "https://localhost:8080/"
        },
        "id": "2Ae4hIIWoPqh",
        "outputId": "38ed4dea-334d-4fee-d915-45142ba19e3b"
      },
      "execution_count": 10,
      "outputs": [
        {
          "output_type": "stream",
          "name": "stdout",
          "text": [
            "<class 'list'>\n"
          ]
        }
      ]
    },
    {
      "cell_type": "code",
      "source": [
        "x.append(\"mango\")"
      ],
      "metadata": {
        "id": "51amyAzboWER"
      },
      "execution_count": 11,
      "outputs": []
    },
    {
      "cell_type": "code",
      "source": [
        "print(x)"
      ],
      "metadata": {
        "colab": {
          "base_uri": "https://localhost:8080/"
        },
        "id": "IE_NrDloofSE",
        "outputId": "580547df-47f3-44ba-fc2e-a3f5061ca705"
      },
      "execution_count": 12,
      "outputs": [
        {
          "output_type": "stream",
          "name": "stdout",
          "text": [
            "['aaple', 'mango', 'banana', 'mango']\n"
          ]
        }
      ]
    },
    {
      "cell_type": "code",
      "source": [
        "len(x)"
      ],
      "metadata": {
        "colab": {
          "base_uri": "https://localhost:8080/"
        },
        "id": "3lCFnbqVpj7g",
        "outputId": "edfee0b6-c29b-4c69-e7f3-f2344665040e"
      },
      "execution_count": 20,
      "outputs": [
        {
          "output_type": "execute_result",
          "data": {
            "text/plain": [
              "4"
            ]
          },
          "metadata": {},
          "execution_count": 20
        }
      ]
    },
    {
      "cell_type": "code",
      "source": [
        "x[3]"
      ],
      "metadata": {
        "colab": {
          "base_uri": "https://localhost:8080/",
          "height": 35
        },
        "id": "qb8MpalCoqFL",
        "outputId": "4c4ac73f-1980-4c3c-edcf-de441fe17eca"
      },
      "execution_count": 14,
      "outputs": [
        {
          "output_type": "execute_result",
          "data": {
            "text/plain": [
              "'mango'"
            ],
            "application/vnd.google.colaboratory.intrinsic+json": {
              "type": "string"
            }
          },
          "metadata": {},
          "execution_count": 14
        }
      ]
    },
    {
      "cell_type": "code",
      "source": [
        "x"
      ],
      "metadata": {
        "colab": {
          "base_uri": "https://localhost:8080/"
        },
        "id": "muXQUPwiovJ_",
        "outputId": "13df8f4b-2bbc-4aca-b41d-93bcfbd48263"
      },
      "execution_count": 15,
      "outputs": [
        {
          "output_type": "execute_result",
          "data": {
            "text/plain": [
              "['aaple', 'mango', 'banana', 'mango']"
            ]
          },
          "metadata": {},
          "execution_count": 15
        }
      ]
    },
    {
      "cell_type": "code",
      "source": [
        "pradip = {\n",
        "    \"name\":\"pradip bhatt\",\n",
        "    \"Age\":\"22\",\n",
        "    \"salary\":\"negotiable\"\n",
        "}"
      ],
      "metadata": {
        "id": "_fCXBPDEoySN"
      },
      "execution_count": 27,
      "outputs": []
    },
    {
      "cell_type": "code",
      "source": [
        "print(type(pradip))"
      ],
      "metadata": {
        "colab": {
          "base_uri": "https://localhost:8080/"
        },
        "id": "tkyJn04Epbnc",
        "outputId": "a0a80cd5-568e-4f3e-e001-51a209b3bd6f"
      },
      "execution_count": 22,
      "outputs": [
        {
          "output_type": "stream",
          "name": "stdout",
          "text": [
            "<class 'dict'>\n"
          ]
        }
      ]
    },
    {
      "cell_type": "code",
      "source": [
        "pradip[\"name\"]"
      ],
      "metadata": {
        "colab": {
          "base_uri": "https://localhost:8080/",
          "height": 35
        },
        "id": "YNrz0Q1GqB-9",
        "outputId": "bd5cd4a5-3421-4c10-cf16-a18cfe477dcc"
      },
      "execution_count": 23,
      "outputs": [
        {
          "output_type": "execute_result",
          "data": {
            "text/plain": [
              "'pradip bhatt'"
            ],
            "application/vnd.google.colaboratory.intrinsic+json": {
              "type": "string"
            }
          },
          "metadata": {},
          "execution_count": 23
        }
      ]
    },
    {
      "cell_type": "code",
      "source": [
        "pradip.get(\"name\")"
      ],
      "metadata": {
        "colab": {
          "base_uri": "https://localhost:8080/",
          "height": 35
        },
        "id": "lQzfbQRrqIHE",
        "outputId": "36c1f0ae-7ffc-46ab-dbb6-a82929725631"
      },
      "execution_count": 25,
      "outputs": [
        {
          "output_type": "execute_result",
          "data": {
            "text/plain": [
              "'pradip bhatt'"
            ],
            "application/vnd.google.colaboratory.intrinsic+json": {
              "type": "string"
            }
          },
          "metadata": {},
          "execution_count": 25
        }
      ]
    },
    {
      "cell_type": "code",
      "source": [
        "len(pradip)"
      ],
      "metadata": {
        "colab": {
          "base_uri": "https://localhost:8080/"
        },
        "id": "Wc_5aMg_qYm1",
        "outputId": "15b52a9a-f3b7-4b61-e350-3de8ea0f09e0"
      },
      "execution_count": 28,
      "outputs": [
        {
          "output_type": "execute_result",
          "data": {
            "text/plain": [
              "3"
            ]
          },
          "metadata": {},
          "execution_count": 28
        }
      ]
    },
    {
      "cell_type": "markdown",
      "source": [
        "# Set\n",
        "**Set it the well defined objects**\n"
      ],
      "metadata": {
        "id": "dPEPnBs6qoi_"
      }
    },
    {
      "cell_type": "code",
      "source": [
        "y = {\"pradip\",\"yogesh\",\"pradip\"}\n",
        "y\n",
        "type(y)"
      ],
      "metadata": {
        "colab": {
          "base_uri": "https://localhost:8080/"
        },
        "id": "SnGwIeWuq2N7",
        "outputId": "37d0821d-c25b-4128-b4c7-66224615b553"
      },
      "execution_count": 30,
      "outputs": [
        {
          "output_type": "execute_result",
          "data": {
            "text/plain": [
              "set"
            ]
          },
          "metadata": {},
          "execution_count": 30
        }
      ]
    },
    {
      "cell_type": "code",
      "source": [
        "y.add(\"jelly\")"
      ],
      "metadata": {
        "id": "TrHfuaherAVf"
      },
      "execution_count": 31,
      "outputs": []
    },
    {
      "cell_type": "code",
      "source": [
        "y"
      ],
      "metadata": {
        "colab": {
          "base_uri": "https://localhost:8080/"
        },
        "id": "6VxZVBkirERx",
        "outputId": "5a9f4b96-84dd-4ca6-e031-a44e50d1a1f7"
      },
      "execution_count": 32,
      "outputs": [
        {
          "output_type": "execute_result",
          "data": {
            "text/plain": [
              "{'jelly', 'pradip', 'yogesh'}"
            ]
          },
          "metadata": {},
          "execution_count": 32
        }
      ]
    },
    {
      "cell_type": "code",
      "source": [
        "y.add(\"sorry\")"
      ],
      "metadata": {
        "id": "7gAE5vfArJe0"
      },
      "execution_count": 33,
      "outputs": []
    },
    {
      "cell_type": "code",
      "source": [
        "y"
      ],
      "metadata": {
        "colab": {
          "base_uri": "https://localhost:8080/"
        },
        "id": "ByC6vjRQrNXP",
        "outputId": "3c7c9b23-2de9-4de4-af28-7065b497b75a"
      },
      "execution_count": 34,
      "outputs": [
        {
          "output_type": "execute_result",
          "data": {
            "text/plain": [
              "{'jelly', 'pradip', 'sorry', 'yogesh'}"
            ]
          },
          "metadata": {},
          "execution_count": 34
        }
      ]
    },
    {
      "cell_type": "markdown",
      "source": [
        "Set le distinct element matra lagcha so similar lae override garcha and here we use the .add to add new things no like append"
      ],
      "metadata": {
        "id": "dAbGNtbDrRui"
      }
    },
    {
      "cell_type": "code",
      "source": [
        "# set wont support indexing\n",
        "demo_Set = {\n",
        "    \"pradip\",\"yogesh\",\"saroj\",\"pradip\"\n",
        "}\n"
      ],
      "metadata": {
        "id": "ipbDbW8GrcK4"
      },
      "execution_count": 39,
      "outputs": []
    },
    {
      "cell_type": "code",
      "source": [
        "demo_Set"
      ],
      "metadata": {
        "colab": {
          "base_uri": "https://localhost:8080/"
        },
        "id": "tlMU4pIRrmMG",
        "outputId": "67daa306-eaba-41e3-8337-9547c381a54f"
      },
      "execution_count": 40,
      "outputs": [
        {
          "output_type": "execute_result",
          "data": {
            "text/plain": [
              "{'pradip', 'saroj', 'yogesh'}"
            ]
          },
          "metadata": {},
          "execution_count": 40
        }
      ]
    },
    {
      "cell_type": "markdown",
      "source": [
        "# Let's talk about the touples type data"
      ],
      "metadata": {
        "id": "nSB-pQxTr1i3"
      }
    },
    {
      "cell_type": "code",
      "source": [
        "# prompt: step wise step to practise the touples\n",
        "\n",
        "# Tuples are ordered, immutable sequences of items.  Immutability means you can't change a tuple after it's created.\n",
        "\n",
        "# 1. Creating Tuples:\n",
        "my_tuple = (1, 2, 3, \"apple\", 3.14)  # Parentheses are optional, but recommended.\n",
        "another_tuple = 1, 2, \"banana\"      # Tuple packing\n",
        "print(my_tuple)\n",
        "print(another_tuple)\n",
        "print(type(my_tuple))\n",
        "\n",
        "\n",
        "# 2. Accessing Elements:\n",
        "print(my_tuple[0])  # Access the first element (index 0)\n",
        "print(my_tuple[3])  # Access the fourth element\n",
        "#my_tuple[0] = 4  # This will raise a TypeError because tuples are immutable\n",
        "\n",
        "\n",
        "# 3. Tuple Operations:\n",
        "\n",
        "# Length\n",
        "print(len(my_tuple))\n",
        "\n",
        "# Concatenation\n",
        "combined_tuple = my_tuple + another_tuple\n",
        "print(combined_tuple)\n",
        "\n",
        "# Repetition\n",
        "repeated_tuple = my_tuple * 2\n",
        "print(repeated_tuple)\n",
        "\n",
        "# Slicing (creates a new tuple):\n",
        "sliced_tuple = my_tuple[1:4]  # Elements from index 1 up to (but not including) index 4\n",
        "print(sliced_tuple)\n",
        "\n",
        "\n",
        "# 4. Tuple Methods:\n",
        "\n",
        "# count(): Counts the occurrences of a value\n",
        "print(my_tuple.count(3))  # Output: 1 (because 3 appears once)\n",
        "\n",
        "# index(): Returns the index of the first occurrence of a value\n",
        "print(my_tuple.index(\"apple\"))  # Output: 3\n",
        "\n",
        "# 5. Immutability Demonstration\n",
        "# my_tuple[0] = 10  # This will result in a TypeError\n",
        "\n",
        "# 6. Iterating through a Tuple:\n",
        "\n",
        "for item in my_tuple:\n",
        "    print(item)\n",
        "\n",
        "# 7. Tuple Unpacking:\n",
        "a, b, c, d, e = my_tuple  # Assign elements to individual variables\n",
        "print(a,b,c,d,e)\n",
        "\n",
        "# 8. Using tuples as dictionary keys (because they're immutable)\n",
        "my_dict = {(1, 2): \"value\"} # tuples can be keys in dictionaries\n",
        "print(my_dict)\n",
        "\n",
        "# 9. Mixed data types\n",
        "mixed_tuple = (1, \"hello\", 3.14, True)\n",
        "mixed_tuple"
      ],
      "metadata": {
        "colab": {
          "base_uri": "https://localhost:8080/"
        },
        "id": "G1ymtJ7Rr8zz",
        "outputId": "3560a9c4-422f-44f5-ce64-c3fef02893c1"
      },
      "execution_count": 41,
      "outputs": [
        {
          "output_type": "stream",
          "name": "stdout",
          "text": [
            "(1, 2, 3, 'apple', 3.14)\n",
            "(1, 2, 'banana')\n",
            "<class 'tuple'>\n",
            "1\n",
            "apple\n",
            "5\n",
            "(1, 2, 3, 'apple', 3.14, 1, 2, 'banana')\n",
            "(1, 2, 3, 'apple', 3.14, 1, 2, 3, 'apple', 3.14)\n",
            "(2, 3, 'apple')\n",
            "1\n",
            "3\n",
            "1\n",
            "2\n",
            "3\n",
            "apple\n",
            "3.14\n",
            "1 2 3 apple 3.14\n",
            "{(1, 2): 'value'}\n"
          ]
        },
        {
          "output_type": "execute_result",
          "data": {
            "text/plain": [
              "(1, 'hello', 3.14, True)"
            ]
          },
          "metadata": {},
          "execution_count": 41
        }
      ]
    }
  ]
}